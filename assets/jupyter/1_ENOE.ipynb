{
 "cells": [
  {
   "cell_type": "code",
   "execution_count": 1,
   "id": "73da7a2c-6d7f-4924-8b33-819613f49fc0",
   "metadata": {},
   "outputs": [],
   "source": [
    "import pandas as pd\n",
    "import pyreadstat\n",
    "import warnings\n",
    "warnings.filterwarnings('ignore')"
   ]
  },
  {
   "cell_type": "code",
   "execution_count": 2,
   "id": "a4c4a12d-c5fc-4e34-b75c-04ddfa774d6e",
   "metadata": {},
   "outputs": [],
   "source": [
    "coet1422, meta1 = pyreadstat.read_dta('ENOEN_COE1T422.dta', apply_value_formats=True)\n",
    "coet2422, meta2 = pyreadstat.read_dta('ENOEN_COE2T422.dta', apply_value_formats=True)\n",
    "hogt422, meta3 = pyreadstat.read_dta('ENOEN_HOGT422.dta', apply_value_formats=True)\n",
    "vivt422, meta4 = pyreadstat.read_dta('ENOEN_VIVT422.dta', apply_value_formats=True)\n",
    "sdemt422, meta5 = pyreadstat.read_dta('ENOEN_SDEMT422.dta', apply_value_formats=True)"
   ]
  },
  {
   "cell_type": "code",
   "execution_count": 3,
   "id": "dc20e3c3-b42c-4ac0-b780-4c222c75402a",
   "metadata": {},
   "outputs": [
    {
     "data": {
      "text/plain": [
       "0         2221.0\n",
       "1            NaN\n",
       "2         2271.0\n",
       "3            NaN\n",
       "4         2281.0\n",
       "           ...  \n",
       "322865    2632.0\n",
       "322866       NaN\n",
       "322867    6111.0\n",
       "322868       NaN\n",
       "322869       NaN\n",
       "Name: p3, Length: 322870, dtype: category\n",
       "Categories (482, float64): [1111.0, 1112.0, 1113.0, 1121.0, ..., 9731.0, 9732.0, 9899.0, 9999.0]"
      ]
     },
     "execution_count": 3,
     "metadata": {},
     "output_type": "execute_result"
    }
   ],
   "source": [
    "coet1422['p3']"
   ]
  },
  {
   "cell_type": "code",
   "execution_count": 4,
   "id": "e567ba69-4d81-4cb8-90ae-9728d5d468bf",
   "metadata": {},
   "outputs": [],
   "source": [
    "idvivienda = ['cd_a', 'ent', 'con', 'v_sel']\n",
    "idhogar = ['cd_a', 'ent', 'con', 'v_sel', 'n_hog', 'h_mud']\n",
    "idpersona = ['cd_a', 'ent', 'con', 'v_sel', 'n_hog', 'h_mud', 'n_ren']"
   ]
  },
  {
   "cell_type": "code",
   "execution_count": 5,
   "id": "9f4a1d16-3efe-415c-adab-c7874841740f",
   "metadata": {},
   "outputs": [
    {
     "data": {
      "text/plain": [
       "Index(['r_def', 'cd_a', 'ent', 'con', 'upm_x', 'd_sem_x', 'n_pro_viv_x',\n",
       "       'v_sel', 'n_hog', 'h_mud',\n",
       "       ...\n",
       "       'p9_h7', 'p9_m7', 'p9_8', 'p9_h8', 'p9_m8', 'ur_y', 'tipo_y',\n",
       "       'mes_cal_y', 'fac_tri_y', 'fac_men_y'],\n",
       "      dtype='object', length=247)"
      ]
     },
     "execution_count": 5,
     "metadata": {},
     "output_type": "execute_result"
    }
   ],
   "source": [
    "coet422 = pd.merge(coet1422, coet2422, on=idpersona)\n",
    "coet422.columns"
   ]
  },
  {
   "cell_type": "code",
   "execution_count": 7,
   "id": "bc2ab8ff-2131-4cb1-a400-1691c670fff0",
   "metadata": {},
   "outputs": [
    {
     "name": "stdout",
     "output_type": "stream",
     "text": [
      "n_ent_y             Cuarta entrevista  Primera entrevista  Quinta entrevista  \\\n",
      "n_ent_x                                                                        \n",
      "Cuarta entrevista               64109                   0                  0   \n",
      "Primera entrevista                  0               65103                  0   \n",
      "Quinta entrevista                   0                   0              63929   \n",
      "Segunda entrevista                  0                   0                  0   \n",
      "Tercera entrevista                  0                   0                  0   \n",
      "\n",
      "n_ent_y             Segunda entrevista  Tercera entrevista  \n",
      "n_ent_x                                                     \n",
      "Cuarta entrevista                    0                   0  \n",
      "Primera entrevista                   0                   0  \n",
      "Quinta entrevista                    0                   0  \n",
      "Segunda entrevista               64334                   0  \n",
      "Tercera entrevista                   0               65395  \n"
     ]
    }
   ],
   "source": [
    "tabla = pd.crosstab(coet422['n_ent_x'], coet422['n_ent_y'])\n",
    "print(tabla)"
   ]
  },
  {
   "cell_type": "code",
   "execution_count": 8,
   "id": "b5fe0245-68de-4ba1-a1a6-e388f99658ee",
   "metadata": {},
   "outputs": [],
   "source": [
    "# Función para limpiar tablas\n",
    "def limpiar_tabla(tabla):\n",
    "    columnas_eliminar = [col for col in tabla.columns if col.endswith('_y')]\n",
    "    tabla = tabla.drop(columns = columnas_eliminar)\n",
    "    tabla = tabla.rename(columns={col:col .split('_')[0] for col in tabla.columns if col.endswith('_x')})\n",
    "    return tabla    "
   ]
  },
  {
   "cell_type": "code",
   "execution_count": 9,
   "id": "a232032c-508f-4ad3-b3b2-adf3021f7e29",
   "metadata": {},
   "outputs": [
    {
     "name": "stdout",
     "output_type": "stream",
     "text": [
      "(322870, 235)\n"
     ]
    }
   ],
   "source": [
    "columnas_eliminar = [col for col in coet422.columns if col.endswith('_y')]\n",
    "coet422 = coet422.drop(columns = columnas_eliminar)\n",
    "coet422 = coet422.rename(columns={col:col .split('_')[0] for col in coet422.columns if col.endswith('_x')})\n",
    "print(coet422.shape)"
   ]
  },
  {
   "cell_type": "code",
   "execution_count": 11,
   "id": "45cb34e3-e733-4ada-af60-7deca1934279",
   "metadata": {},
   "outputs": [
    {
     "name": "stdout",
     "output_type": "stream",
     "text": [
      "(311083, 342)\n"
     ]
    }
   ],
   "source": [
    "sdemcoet422 = pd.merge(sdemt422, coet422, on=idpersona)\n",
    "print(sdemcoet422.shape)"
   ]
  },
  {
   "cell_type": "code",
   "execution_count": 13,
   "id": "866f5038-d794-490e-b5ce-6a7325bb6723",
   "metadata": {},
   "outputs": [
    {
     "name": "stdout",
     "output_type": "stream",
     "text": [
      "(311083, 336)\n"
     ]
    }
   ],
   "source": [
    "sdemcoet422 = limpiar_tabla(sdemcoet422)\n",
    "print(sdemcoet422.shape)"
   ]
  },
  {
   "cell_type": "code",
   "execution_count": 14,
   "id": "e2822ff5",
   "metadata": {},
   "outputs": [
    {
     "data": {
      "text/plain": [
       "0         2332.0\n",
       "1         2332.0\n",
       "2            NaN\n",
       "3            NaN\n",
       "4            NaN\n",
       "           ...  \n",
       "311078    2632.0\n",
       "311079       NaN\n",
       "311080    6111.0\n",
       "311081       NaN\n",
       "311082       NaN\n",
       "Name: p3, Length: 311083, dtype: category\n",
       "Categories (482, float64): [1111.0, 1112.0, 1113.0, 1121.0, ..., 9731.0, 9732.0, 9899.0, 9999.0]"
      ]
     },
     "execution_count": 14,
     "metadata": {},
     "output_type": "execute_result"
    }
   ],
   "source": [
    "sdemcoet422['p3']"
   ]
  },
  {
   "cell_type": "code",
   "execution_count": 15,
   "id": "b1f883cf-a034-4ff6-9414-39398fc61f35",
   "metadata": {},
   "outputs": [
    {
     "name": "stdout",
     "output_type": "stream",
     "text": [
      "(133108, 57)\n"
     ]
    }
   ],
   "source": [
    "vivhogt422 = pd.merge(vivt422, hogt422, on=idvivienda)\n",
    "print(vivhogt422.shape)"
   ]
  },
  {
   "cell_type": "code",
   "execution_count": 16,
   "id": "a4dbca07-bfa3-4039-bdc4-60d68a9026a7",
   "metadata": {},
   "outputs": [
    {
     "name": "stdout",
     "output_type": "stream",
     "text": [
      "(133108, 39)\n"
     ]
    }
   ],
   "source": [
    "vivhogt422 = limpiar_tabla(vivhogt422)\n",
    "print(vivhogt422.shape)"
   ]
  },
  {
   "cell_type": "code",
   "execution_count": 23,
   "id": "08660228-78db-45ac-860a-c31a1979b726",
   "metadata": {},
   "outputs": [
    {
     "name": "stdout",
     "output_type": "stream",
     "text": [
      "(311083, 369)\n"
     ]
    }
   ],
   "source": [
    "completat422 = pd.merge(sdemcoet422, vivhogt422, on=idhogar)\n",
    "print(completat422.shape)"
   ]
  },
  {
   "cell_type": "code",
   "execution_count": 27,
   "id": "e3c87ae2",
   "metadata": {},
   "outputs": [
    {
     "data": {
      "text/plain": [
       "0         2332.0\n",
       "1         2332.0\n",
       "2            NaN\n",
       "3            NaN\n",
       "4            NaN\n",
       "           ...  \n",
       "311078    2632.0\n",
       "311079       NaN\n",
       "311080    6111.0\n",
       "311081       NaN\n",
       "311082       NaN\n",
       "Name: p3_x, Length: 311083, dtype: category\n",
       "Categories (482, float64): [1111.0, 1112.0, 1113.0, 1121.0, ..., 9731.0, 9732.0, 9899.0, 9999.0]"
      ]
     },
     "execution_count": 27,
     "metadata": {},
     "output_type": "execute_result"
    }
   ],
   "source": [
    "completat422['p3_x']"
   ]
  },
  {
   "cell_type": "code",
   "execution_count": 28,
   "id": "069970e4-28d9-400d-848f-f62987e19215",
   "metadata": {},
   "outputs": [
    {
     "name": "stdout",
     "output_type": "stream",
     "text": [
      "(311083, 349)\n"
     ]
    }
   ],
   "source": [
    "completat422 = limpiar_tabla(completat422)\n",
    "print(completat422.shape)"
   ]
  },
  {
   "cell_type": "code",
   "execution_count": 29,
   "id": "601831d5-2bee-46fb-b27c-a45992f40115",
   "metadata": {},
   "outputs": [
    {
     "data": {
      "text/html": [
       "<div>\n",
       "<style scoped>\n",
       "    .dataframe tbody tr th:only-of-type {\n",
       "        vertical-align: middle;\n",
       "    }\n",
       "\n",
       "    .dataframe tbody tr th {\n",
       "        vertical-align: top;\n",
       "    }\n",
       "\n",
       "    .dataframe thead th {\n",
       "        text-align: right;\n",
       "    }\n",
       "</style>\n",
       "<table border=\"1\" class=\"dataframe\">\n",
       "  <thead>\n",
       "    <tr style=\"text-align: right;\">\n",
       "      <th></th>\n",
       "      <th>r</th>\n",
       "      <th>loc</th>\n",
       "      <th>mun</th>\n",
       "      <th>est</th>\n",
       "      <th>est_d_tri</th>\n",
       "      <th>est_d_men</th>\n",
       "      <th>ageb</th>\n",
       "      <th>t_loc_tri</th>\n",
       "      <th>t_loc_men</th>\n",
       "      <th>cd_a</th>\n",
       "      <th>...</th>\n",
       "      <th>r_pre</th>\n",
       "      <th>p_dia</th>\n",
       "      <th>p_mes</th>\n",
       "      <th>p_anio</th>\n",
       "      <th>r_def</th>\n",
       "      <th>d_dia</th>\n",
       "      <th>d_mes</th>\n",
       "      <th>d_anio</th>\n",
       "      <th>e_obs</th>\n",
       "      <th>inf</th>\n",
       "    </tr>\n",
       "  </thead>\n",
       "  <tbody>\n",
       "    <tr>\n",
       "      <th>311078</th>\n",
       "      <td>Entrevista completa</td>\n",
       "      <td>NaN</td>\n",
       "      <td>2.0</td>\n",
       "      <td>20.0</td>\n",
       "      <td>476.0</td>\n",
       "      <td>420.0</td>\n",
       "      <td>0.0</td>\n",
       "      <td>Localidades menores de 2 500 habitantes</td>\n",
       "      <td>Localidades menores de 2 500 habitantes</td>\n",
       "      <td>Complemento urbano-rural</td>\n",
       "      <td>...</td>\n",
       "      <td>Entrevista completa</td>\n",
       "      <td>6.0</td>\n",
       "      <td>12.0</td>\n",
       "      <td>22.0</td>\n",
       "      <td>Entrevista completa</td>\n",
       "      <td>6.0</td>\n",
       "      <td>12.0</td>\n",
       "      <td>22.0</td>\n",
       "      <td>No</td>\n",
       "      <td>2.0</td>\n",
       "    </tr>\n",
       "    <tr>\n",
       "      <th>311079</th>\n",
       "      <td>Entrevista completa</td>\n",
       "      <td>NaN</td>\n",
       "      <td>2.0</td>\n",
       "      <td>20.0</td>\n",
       "      <td>476.0</td>\n",
       "      <td>420.0</td>\n",
       "      <td>0.0</td>\n",
       "      <td>Localidades menores de 2 500 habitantes</td>\n",
       "      <td>Localidades menores de 2 500 habitantes</td>\n",
       "      <td>Complemento urbano-rural</td>\n",
       "      <td>...</td>\n",
       "      <td>Entrevista completa</td>\n",
       "      <td>6.0</td>\n",
       "      <td>12.0</td>\n",
       "      <td>22.0</td>\n",
       "      <td>Entrevista completa</td>\n",
       "      <td>6.0</td>\n",
       "      <td>12.0</td>\n",
       "      <td>22.0</td>\n",
       "      <td>No</td>\n",
       "      <td>2.0</td>\n",
       "    </tr>\n",
       "    <tr>\n",
       "      <th>311080</th>\n",
       "      <td>Entrevista completa</td>\n",
       "      <td>NaN</td>\n",
       "      <td>2.0</td>\n",
       "      <td>20.0</td>\n",
       "      <td>476.0</td>\n",
       "      <td>420.0</td>\n",
       "      <td>0.0</td>\n",
       "      <td>Localidades menores de 2 500 habitantes</td>\n",
       "      <td>Localidades menores de 2 500 habitantes</td>\n",
       "      <td>Complemento urbano-rural</td>\n",
       "      <td>...</td>\n",
       "      <td>Entrevista completa</td>\n",
       "      <td>6.0</td>\n",
       "      <td>12.0</td>\n",
       "      <td>22.0</td>\n",
       "      <td>Entrevista completa</td>\n",
       "      <td>6.0</td>\n",
       "      <td>12.0</td>\n",
       "      <td>22.0</td>\n",
       "      <td>No</td>\n",
       "      <td>1.0</td>\n",
       "    </tr>\n",
       "    <tr>\n",
       "      <th>311081</th>\n",
       "      <td>Entrevista completa</td>\n",
       "      <td>NaN</td>\n",
       "      <td>2.0</td>\n",
       "      <td>20.0</td>\n",
       "      <td>476.0</td>\n",
       "      <td>420.0</td>\n",
       "      <td>0.0</td>\n",
       "      <td>Localidades menores de 2 500 habitantes</td>\n",
       "      <td>Localidades menores de 2 500 habitantes</td>\n",
       "      <td>Complemento urbano-rural</td>\n",
       "      <td>...</td>\n",
       "      <td>Entrevista completa</td>\n",
       "      <td>6.0</td>\n",
       "      <td>12.0</td>\n",
       "      <td>22.0</td>\n",
       "      <td>Entrevista completa</td>\n",
       "      <td>6.0</td>\n",
       "      <td>12.0</td>\n",
       "      <td>22.0</td>\n",
       "      <td>No</td>\n",
       "      <td>1.0</td>\n",
       "    </tr>\n",
       "    <tr>\n",
       "      <th>311082</th>\n",
       "      <td>Entrevista completa</td>\n",
       "      <td>NaN</td>\n",
       "      <td>2.0</td>\n",
       "      <td>20.0</td>\n",
       "      <td>476.0</td>\n",
       "      <td>420.0</td>\n",
       "      <td>0.0</td>\n",
       "      <td>Localidades menores de 2 500 habitantes</td>\n",
       "      <td>Localidades menores de 2 500 habitantes</td>\n",
       "      <td>Complemento urbano-rural</td>\n",
       "      <td>...</td>\n",
       "      <td>Entrevista completa</td>\n",
       "      <td>6.0</td>\n",
       "      <td>12.0</td>\n",
       "      <td>22.0</td>\n",
       "      <td>Entrevista completa</td>\n",
       "      <td>6.0</td>\n",
       "      <td>12.0</td>\n",
       "      <td>22.0</td>\n",
       "      <td>No</td>\n",
       "      <td>99.0</td>\n",
       "    </tr>\n",
       "  </tbody>\n",
       "</table>\n",
       "<p>5 rows × 349 columns</p>\n",
       "</div>"
      ],
      "text/plain": [
       "                          r  loc  mun   est  est_d_tri  est_d_men  ageb  \\\n",
       "311078  Entrevista completa  NaN  2.0  20.0      476.0      420.0   0.0   \n",
       "311079  Entrevista completa  NaN  2.0  20.0      476.0      420.0   0.0   \n",
       "311080  Entrevista completa  NaN  2.0  20.0      476.0      420.0   0.0   \n",
       "311081  Entrevista completa  NaN  2.0  20.0      476.0      420.0   0.0   \n",
       "311082  Entrevista completa  NaN  2.0  20.0      476.0      420.0   0.0   \n",
       "\n",
       "                                      t_loc_tri  \\\n",
       "311078  Localidades menores de 2 500 habitantes   \n",
       "311079  Localidades menores de 2 500 habitantes   \n",
       "311080  Localidades menores de 2 500 habitantes   \n",
       "311081  Localidades menores de 2 500 habitantes   \n",
       "311082  Localidades menores de 2 500 habitantes   \n",
       "\n",
       "                                      t_loc_men                      cd_a  \\\n",
       "311078  Localidades menores de 2 500 habitantes  Complemento urbano-rural   \n",
       "311079  Localidades menores de 2 500 habitantes  Complemento urbano-rural   \n",
       "311080  Localidades menores de 2 500 habitantes  Complemento urbano-rural   \n",
       "311081  Localidades menores de 2 500 habitantes  Complemento urbano-rural   \n",
       "311082  Localidades menores de 2 500 habitantes  Complemento urbano-rural   \n",
       "\n",
       "        ...                r_pre  p_dia  p_mes p_anio                r_def  \\\n",
       "311078  ...  Entrevista completa    6.0   12.0   22.0  Entrevista completa   \n",
       "311079  ...  Entrevista completa    6.0   12.0   22.0  Entrevista completa   \n",
       "311080  ...  Entrevista completa    6.0   12.0   22.0  Entrevista completa   \n",
       "311081  ...  Entrevista completa    6.0   12.0   22.0  Entrevista completa   \n",
       "311082  ...  Entrevista completa    6.0   12.0   22.0  Entrevista completa   \n",
       "\n",
       "       d_dia d_mes d_anio e_obs   inf  \n",
       "311078   6.0  12.0   22.0    No   2.0  \n",
       "311079   6.0  12.0   22.0    No   2.0  \n",
       "311080   6.0  12.0   22.0    No   1.0  \n",
       "311081   6.0  12.0   22.0    No   1.0  \n",
       "311082   6.0  12.0   22.0    No  99.0  \n",
       "\n",
       "[5 rows x 349 columns]"
      ]
     },
     "execution_count": 29,
     "metadata": {},
     "output_type": "execute_result"
    }
   ],
   "source": [
    "completat422.tail()"
   ]
  },
  {
   "cell_type": "code",
   "execution_count": 30,
   "id": "7a6dd11b-44be-4ae1-b864-de199ae9df63",
   "metadata": {
    "scrolled": true
   },
   "outputs": [
    {
     "data": {
      "text/plain": [
       "['r',\n",
       " 'loc',\n",
       " 'mun',\n",
       " 'est',\n",
       " 'est_d_tri',\n",
       " 'est_d_men',\n",
       " 'ageb',\n",
       " 't_loc_tri',\n",
       " 't_loc_men',\n",
       " 'cd_a',\n",
       " 'ent',\n",
       " 'con',\n",
       " 'upm',\n",
       " 'd_sem',\n",
       " 'n_pro_viv',\n",
       " 'v_sel',\n",
       " 'n_hog',\n",
       " 'h_mud',\n",
       " 'n_ent',\n",
       " 'per',\n",
       " 'n_ren',\n",
       " 'c_res',\n",
       " 'par_c',\n",
       " 'sex',\n",
       " 'eda',\n",
       " 'nac_dia',\n",
       " 'nac_mes',\n",
       " 'nac_anio',\n",
       " 'l_nac_c',\n",
       " 'cs_p12',\n",
       " 'cs_p13_1',\n",
       " 'cs_p13_2',\n",
       " 'cs_p14_c',\n",
       " 'cs_p15',\n",
       " 'cs_p16',\n",
       " 'cs_p17',\n",
       " 'n_hij',\n",
       " 'e_con',\n",
       " 'cs_p20a_1',\n",
       " 'cs_p20a_c',\n",
       " 'cs_p20b_1',\n",
       " 'cs_p20b_c',\n",
       " 'cs_p20c_1',\n",
       " 'cs_ad_mot',\n",
       " 'cs_p21_des',\n",
       " 'cs_ad_des',\n",
       " 'cs_nr_mot',\n",
       " 'cs_p23_des',\n",
       " 'cs_nr_ori',\n",
       " 'ur',\n",
       " 'zona',\n",
       " 'salario',\n",
       " 'fac_tri',\n",
       " 'fac_men',\n",
       " 'clase1',\n",
       " 'clase2',\n",
       " 'clase3',\n",
       " 'pos_ocu',\n",
       " 'seg_soc',\n",
       " 'rama',\n",
       " 'c_ocu11c',\n",
       " 'ing7c',\n",
       " 'dur9c',\n",
       " 'emple7c',\n",
       " 'medica5c',\n",
       " 'buscar5c',\n",
       " 'rama_est1',\n",
       " 'rama_est2',\n",
       " 'dur_est',\n",
       " 'ambito1',\n",
       " 'ambito2',\n",
       " 'tue1',\n",
       " 'tue2',\n",
       " 'tue3',\n",
       " 'busqueda',\n",
       " 'd_ant_lab',\n",
       " 'd_cexp_est',\n",
       " 'dur_des',\n",
       " 'sub_o',\n",
       " 's_clasifi',\n",
       " 'remune2c',\n",
       " 'pre_asa',\n",
       " 'tip_con',\n",
       " 'dispo',\n",
       " 'nodispo',\n",
       " 'c_inac5c',\n",
       " 'pnea_est',\n",
       " 'niv_ins',\n",
       " 'eda5c',\n",
       " 'eda7c',\n",
       " 'eda12c',\n",
       " 'eda19c',\n",
       " 'hij5c',\n",
       " 'domestico',\n",
       " 'anios_esc',\n",
       " 'hrsocup',\n",
       " 'ingocup',\n",
       " 'ing_x_hrs',\n",
       " 'tpg_p8a',\n",
       " 'tcco',\n",
       " 'cp_anoc',\n",
       " 'imssissste',\n",
       " 'ma48me1sm',\n",
       " 'p14apoyos',\n",
       " 'scian',\n",
       " 't_tra',\n",
       " 'emp_ppal',\n",
       " 'tue_ppal',\n",
       " 'trans_ppal',\n",
       " 'mh_fil2',\n",
       " 'mh_col',\n",
       " 'sec_ins',\n",
       " 'tipo',\n",
       " 'mes_cal',\n",
       " 'd',\n",
       " 'n',\n",
       " 'n',\n",
       " 'n',\n",
       " 'p1',\n",
       " 'p1a1',\n",
       " 'p1a2',\n",
       " 'p1a3',\n",
       " 'p1b',\n",
       " 'p1c',\n",
       " 'p1d',\n",
       " 'p1e',\n",
       " 'p2_1',\n",
       " 'p2_2',\n",
       " 'p2_3',\n",
       " 'p2_4',\n",
       " 'p2_9',\n",
       " 'p2a_dia',\n",
       " 'p2a_sem',\n",
       " 'p2a_mes',\n",
       " 'p2a_anio',\n",
       " 'p2b_dia',\n",
       " 'p2b_sem',\n",
       " 'p2b_mes',\n",
       " 'p2b_anio',\n",
       " 'p2b',\n",
       " 'p2c',\n",
       " 'p2d1',\n",
       " 'p2d2',\n",
       " 'p2d3',\n",
       " 'p2d4',\n",
       " 'p2d5',\n",
       " 'p2d6',\n",
       " 'p2d7',\n",
       " 'p2d8',\n",
       " 'p2d9',\n",
       " 'p2d10',\n",
       " 'p2d11',\n",
       " 'p2d99',\n",
       " 'p2e',\n",
       " 'p2f',\n",
       " 'p2g1',\n",
       " 'p2g2',\n",
       " 'p2h1',\n",
       " 'p2h2',\n",
       " 'p2h3',\n",
       " 'p2h4',\n",
       " 'p2h9',\n",
       " 'p2i',\n",
       " 'p2j',\n",
       " 'p2k_anio',\n",
       " 'p2k_mes',\n",
       " 'p2k',\n",
       " 'p3',\n",
       " 'p3a',\n",
       " 'p3b',\n",
       " 'p3c1',\n",
       " 'p3c2',\n",
       " 'p3c3',\n",
       " 'p3c4',\n",
       " 'p3c9',\n",
       " 'p3d',\n",
       " 'p3e',\n",
       " 'p3f1',\n",
       " 'p3f2',\n",
       " 'p3g1_1',\n",
       " 'p3g1_2',\n",
       " 'p3g2_1',\n",
       " 'p3g2_2',\n",
       " 'p3g3_1',\n",
       " 'p3g3_2',\n",
       " 'p3g4_1',\n",
       " 'p3g4_2',\n",
       " 'p3g9',\n",
       " 'p3g_tot',\n",
       " 'p3h',\n",
       " 'p3i',\n",
       " 'p3j1',\n",
       " 'p3j2',\n",
       " 'p3k1',\n",
       " 'p3k2',\n",
       " 'p3k3',\n",
       " 'p3k4',\n",
       " 'p3k5',\n",
       " 'p3k9',\n",
       " 'p3l',\n",
       " 'p4',\n",
       " 'p4',\n",
       " 'p4',\n",
       " 'p4_3',\n",
       " 'p4a',\n",
       " 'p4a_1',\n",
       " 'p4b',\n",
       " 'p4c',\n",
       " 'p4d1',\n",
       " 'p4d2',\n",
       " 'p4d3',\n",
       " 'p4e',\n",
       " 'p4f',\n",
       " 'p4g',\n",
       " 'p4h',\n",
       " 'p4i',\n",
       " 'p4i_1',\n",
       " 'p5',\n",
       " 'p5a',\n",
       " 'p5b_hlu',\n",
       " 'p5b_mlu',\n",
       " 'p5b_hma',\n",
       " 'p5b_mma',\n",
       " 'p5b_hmi',\n",
       " 'p5b_mmi',\n",
       " 'p5b_hju',\n",
       " 'p5b_mju',\n",
       " 'p5b_hvi',\n",
       " 'p5b_mvi',\n",
       " 'p5b_hsa',\n",
       " 'p5b_msa',\n",
       " 'p5b_hdo',\n",
       " 'p5b_mdo',\n",
       " 'p5b_thrs',\n",
       " 'p5b_tdia',\n",
       " 'p5c',\n",
       " 'p5d1',\n",
       " 'p5d_hlu',\n",
       " 'p5d_mlu',\n",
       " 'p5d_hma',\n",
       " 'p5d_mma',\n",
       " 'p5d_hmi',\n",
       " 'p5d_mmi',\n",
       " 'p5d_hju',\n",
       " 'p5d_mju',\n",
       " 'p5d_hvi',\n",
       " 'p5d_mvi',\n",
       " 'p5d_hsa',\n",
       " 'p5d_msa',\n",
       " 'p5d_hdo',\n",
       " 'p5d_mdo',\n",
       " 'p5d_thrs',\n",
       " 'p5d_tdia',\n",
       " 'p5e',\n",
       " 'p5f1',\n",
       " 'p5f2',\n",
       " 'p5f3',\n",
       " 'p5f4',\n",
       " 'p5f5',\n",
       " 'p5f6',\n",
       " 'p5f7',\n",
       " 'p5f8',\n",
       " 'p5f9',\n",
       " 'p5f10',\n",
       " 'p5f11',\n",
       " 'p5f12',\n",
       " 'p5f13',\n",
       " 'p5f14',\n",
       " 'p5f15',\n",
       " 'p5f99',\n",
       " 'mes',\n",
       " 'fac',\n",
       " 'fac',\n",
       " 'p6_1',\n",
       " 'p6_2',\n",
       " 'p6_3',\n",
       " 'p6_4',\n",
       " 'p6_5',\n",
       " 'p6_6',\n",
       " 'p6_7',\n",
       " 'p6_8',\n",
       " 'p6_9',\n",
       " 'p6_10',\n",
       " 'p6_99',\n",
       " 'p6a1',\n",
       " 'p6a2',\n",
       " 'p6a3',\n",
       " 'p6a4',\n",
       " 'p6a9',\n",
       " 'p6b1',\n",
       " 'p6b2',\n",
       " 'p6c',\n",
       " 'p6d',\n",
       " 'p6e',\n",
       " 'p6e_c',\n",
       " 'p6f',\n",
       " 'p6f_c',\n",
       " 'p6g',\n",
       " 'p6h',\n",
       " 'p6h_c',\n",
       " 'p6i',\n",
       " 'p6i_c',\n",
       " 'p7',\n",
       " 'p7a',\n",
       " 'p7b',\n",
       " 'p7c',\n",
       " 'p8_1',\n",
       " 'p8_2',\n",
       " 'p8_3',\n",
       " 'p8_4',\n",
       " 'p8_9',\n",
       " 'p8a',\n",
       " 'p9_1',\n",
       " 'p9_h1',\n",
       " 'p9_m1',\n",
       " 'p9_2',\n",
       " 'p9_h2',\n",
       " 'p9_m2',\n",
       " 'p9_3',\n",
       " 'p9_h3',\n",
       " 'p9_m3',\n",
       " 'p9_4',\n",
       " 'p9_h4',\n",
       " 'p9_m4',\n",
       " 'p9_5',\n",
       " 'p9_h5',\n",
       " 'p9_m5',\n",
       " 'p9_6',\n",
       " 'p9_h6',\n",
       " 'p9_m6',\n",
       " 'p9_7',\n",
       " 'p9_h7',\n",
       " 'p9_m7',\n",
       " 'p9_8',\n",
       " 'p9_h8',\n",
       " 'p9_m8',\n",
       " 't',\n",
       " 't',\n",
       " 'p2',\n",
       " 'r_pre',\n",
       " 'p_dia',\n",
       " 'p_mes',\n",
       " 'p_anio',\n",
       " 'r_def',\n",
       " 'd_dia',\n",
       " 'd_mes',\n",
       " 'd_anio',\n",
       " 'e_obs',\n",
       " 'inf']"
      ]
     },
     "execution_count": 30,
     "metadata": {},
     "output_type": "execute_result"
    }
   ],
   "source": [
    "[col for col in completat422.columns]"
   ]
  },
  {
   "cell_type": "code",
   "execution_count": 31,
   "id": "06a6d2c2-db2a-4e8b-ab92-50ed601acb1c",
   "metadata": {},
   "outputs": [
    {
     "name": "stdout",
     "output_type": "stream",
     "text": [
      "Index(['n', 'n', 'p4', 'p4', 'fac', 't'], dtype='object')\n"
     ]
    }
   ],
   "source": [
    "# Columnas duplicadas\n",
    "print(completat422.columns[completat422.columns.duplicated().tolist()])"
   ]
  },
  {
   "cell_type": "code",
   "execution_count": 32,
   "id": "6f1c6dff-207e-4bfe-87b5-81fdcadb63a8",
   "metadata": {},
   "outputs": [],
   "source": [
    "# Finalmente vamos a guardar el data frame para su analisis\n",
    "completat422.to_csv('completat422.csv', index = False)"
   ]
  },
  {
   "cell_type": "code",
   "execution_count": null,
   "id": "354367f8",
   "metadata": {},
   "outputs": [],
   "source": [
    "data = pd.read_csv('completat422.csv')\n",
    "data.head()"
   ]
  },
  {
   "cell_type": "code",
   "execution_count": null,
   "id": "2f7419d5",
   "metadata": {},
   "outputs": [],
   "source": []
  }
 ],
 "metadata": {
  "kernelspec": {
   "display_name": "Python 3",
   "language": "python",
   "name": "python3"
  },
  "language_info": {
   "codemirror_mode": {
    "name": "ipython",
    "version": 3
   },
   "file_extension": ".py",
   "mimetype": "text/x-python",
   "name": "python",
   "nbconvert_exporter": "python",
   "pygments_lexer": "ipython3",
   "version": "3.11.3"
  }
 },
 "nbformat": 4,
 "nbformat_minor": 5
}
